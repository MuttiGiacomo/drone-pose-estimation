{
 "cells": [
  {
   "cell_type": "markdown",
   "metadata": {},
   "source": [
    "##### Initialization"
   ]
  },
  {
   "cell_type": "code",
   "execution_count": 1,
   "metadata": {},
   "outputs": [
    {
     "name": "stdout",
     "output_type": "stream",
     "text": [
      "[[8.69708885 6.58330419 5.22656964]\n",
      " [2.16608891 9.73303605 5.7499205 ]]\n"
     ]
    }
   ],
   "source": [
    "import numpy as np\n",
    "from UAV import *\n",
    "import random\n",
    "from sklearn.manifold import MDS\n",
    "import matplotlib.pyplot as plt   \n",
    "\n",
    "\n",
    "n_robots = 3#int(input(\"number of robots: \"))\n",
    "platoon = []\n",
    "\n",
    "\n",
    "# initialization of n robots\n",
    "for i in range(n_robots):\n",
    "    #if i==0:\n",
    "    #    i_robot = Robot(\"op_\" + str(i),0,0,0)\n",
    "    #else:\n",
    "    i_robot = Robot(\"op_\" + str(i),random.uniform(0, 10.0),random.uniform(0, 10.0),0)\n",
    "    platoon.append(i_robot)\n",
    "\n",
    "coordinates = [[],[],[]]\n",
    "\n",
    "for rob in platoon:\n",
    "    coordinates = np.append(coordinates,rob.get_coords(),axis=1)\n",
    "\n",
    "#TRUE COORDINATES [REALITY: THEY ARE UNKNOWN]\n",
    "S = coordinates[0:2,:]\n",
    "print(S)"
   ]
  },
  {
   "cell_type": "markdown",
   "metadata": {},
   "source": [
    "##### Distance matrix definition: DM"
   ]
  },
  {
   "cell_type": "code",
   "execution_count": 2,
   "metadata": {},
   "outputs": [],
   "source": [
    "#It will be fed into the MDS algorithm\n",
    "DM  = d_matrix(platoon)  #distance matrix -> for sktlearn\n",
    "DM2 = d_matrix2(platoon) #squared distance matrix -> for formulas"
   ]
  },
  {
   "cell_type": "markdown",
   "metadata": {},
   "source": [
    "##### S* definition (estimated coordinates w/ Eigendecomposition)"
   ]
  },
  {
   "cell_type": "code",
   "execution_count": 3,
   "metadata": {},
   "outputs": [
    {
     "name": "stdout",
     "output_type": "stream",
     "text": [
      "[[-4.10031789  3.75354391  0.34677398]\n",
      " [-0.68401219 -0.89288831  1.5769005 ]]\n"
     ]
    }
   ],
   "source": [
    "Phi =  np.array([np.diag(S.T@S)]).T\n",
    "e   = np.array([[1] for i in S[0,:]])\n",
    "\n",
    "#DM1 = Phi@e.T - 2*S.T@S + e@Phi.T\n",
    "\n",
    "H = np.identity(n_robots) - e@e.T/n_robots\n",
    "#print(H)\n",
    "\n",
    "ev, EV = np.linalg.eig(-1/2*H@DM2@H)\n",
    "\n",
    "n_components = 2\n",
    "LAMBDA = np.eye(n_components)\n",
    "U = np.zeros((n_robots,n_components))\n",
    "\n",
    "for i in range(n_components):\n",
    "    ind  = np.argmax(ev)\n",
    "    LAMBDA[i,i] = ev[ind]\n",
    "    U[:,i] = EV[:,ind]\n",
    "    ev[ind] = -1000\n",
    "\n",
    "S_star11 = np.sqrt(LAMBDA)@U.T\n",
    "print(S_star11)\n",
    "\n"
   ]
  },
  {
   "cell_type": "markdown",
   "metadata": {},
   "source": [
    "##### S* definition (estimated coordinates w/ MDS algorithm)"
   ]
  },
  {
   "cell_type": "code",
   "execution_count": 4,
   "metadata": {},
   "outputs": [
    {
     "name": "stdout",
     "output_type": "stream",
     "text": [
      "[[ 1.12407473  0.49046815 -1.61454288]\n",
      " [-4.00038967  3.82476682  0.17562285]]\n"
     ]
    }
   ],
   "source": [
    "#SKTLEARN MDS: DIMENSIONALITY REDUCTION\n",
    "embedding = MDS(n_components=2,\n",
    "                n_init = 50,\n",
    "                max_iter = 10000,\n",
    "                eps=1e-5,\n",
    "                dissimilarity='precomputed') \n",
    "\n",
    "#ESTIMATED COORDINATES (MAY BE AFFECTED BY FLIP AND ROTATION)\n",
    "S_star = embedding.fit_transform(DM).T\n",
    "print(S_star)"
   ]
  },
  {
   "cell_type": "markdown",
   "metadata": {},
   "source": [
    "##### S' definition (to overcome rotation and flip ambiguities)"
   ]
  },
  {
   "cell_type": "code",
   "execution_count": 5,
   "metadata": {},
   "outputs": [
    {
     "name": "stdout",
     "output_type": "stream",
     "text": [
      "[[9.69708885 6.58330419 5.22656964]\n",
      " [3.16608891 9.73303605 5.7499205 ]]\n"
     ]
    }
   ],
   "source": [
    "#FIRST DISPLACEMENT\n",
    "deltaX1 = deltaY1 = 1\n",
    "\n",
    "deltaSprime = np.array([[0 for i in range(n_robots)] for j in range(2)],dtype=float)\n",
    "deltaSprime[:,0] = [deltaX1,deltaY1]\n",
    "\n",
    "Sprime = S + deltaSprime\n",
    "print(Sprime)"
   ]
  },
  {
   "cell_type": "markdown",
   "metadata": {},
   "source": [
    "##### DM' definition (new distance matrix from S' coordinates)"
   ]
  },
  {
   "cell_type": "code",
   "execution_count": 9,
   "metadata": {},
   "outputs": [
    {
     "name": "stdout",
     "output_type": "stream",
     "text": [
      "DM' :\n",
      " [[ 0.         52.82044953 26.66172762]\n",
      " [52.82044953  0.         17.70593814]\n",
      " [26.66172762 17.70593814  0.        ]]\n"
     ]
    }
   ],
   "source": [
    "DM_prime = DM_from_S(Sprime,verbose=1)"
   ]
  },
  {
   "cell_type": "code",
   "execution_count": 7,
   "metadata": {},
   "outputs": [
    {
     "name": "stdout",
     "output_type": "stream",
     "text": [
      "[[ 0.00000000e+00  8.90632496e+00 -1.77337525e+00]\n",
      " [ 8.90632496e+00  0.00000000e+00  2.13162821e-14]\n",
      " [-1.77337525e+00  2.13162821e-14  0.00000000e+00]]\n"
     ]
    }
   ],
   "source": [
    "#CHECK IF THE DIFFERENCES IN DISTANCE ARE CLOSED TO ZERO\n",
    "print(DM2 - DM_prime)"
   ]
  },
  {
   "cell_type": "markdown",
   "metadata": {},
   "source": [
    "##### Estimation of the first rotation angle: $\\theta_r$"
   ]
  },
  {
   "cell_type": "code",
   "execution_count": 10,
   "metadata": {},
   "outputs": [
    {
     "name": "stdout",
     "output_type": "stream",
     "text": [
      "Coordinates to work with: 1-th and 2-th\n",
      "After normalization: \n",
      "cos(theta):\t0.579814\n",
      "sin(theta):\t-0.814749\n",
      "\n",
      "Actual theta:\t -0.952296161105391\n",
      "Approx theta:\t -0.9523\n"
     ]
    }
   ],
   "source": [
    "theta_r = estimate_theta(DM2,DM_prime,S_star11,[deltaX1,deltaY1],verbose=1)"
   ]
  },
  {
   "cell_type": "code",
   "execution_count": 23,
   "metadata": {},
   "outputs": [
    {
     "name": "stdout",
     "output_type": "stream",
     "text": [
      "[[-1.82010841  2.90382676 -1.08371835]\n",
      " [-3.7373366   2.5404983   1.19683831]]\n"
     ]
    }
   ],
   "source": [
    "S_star2 = rotateMatrix(theta_r)@S_star11\n",
    "print(S_star2)"
   ]
  },
  {
   "cell_type": "markdown",
   "metadata": {},
   "source": [
    "Second displacement: $\\left[\\Delta x_2, \\Delta y_2\\right]$"
   ]
  },
  {
   "cell_type": "code",
   "execution_count": 19,
   "metadata": {},
   "outputs": [
    {
     "name": "stdout",
     "output_type": "stream",
     "text": [
      "[[8.99708885 6.58330419 5.22656964]\n",
      " [2.46608891 9.73303605 5.7499205 ]]\n"
     ]
    }
   ],
   "source": [
    "deltaX2 = deltaY2 = 0.3\n",
    "\n",
    "deltaSprime2 = np.array([[0 for i in range(n_robots)] for j in range(2)],dtype=float)\n",
    "deltaSprime2[:,0] = [deltaX2,deltaY2]\n",
    "\n",
    "S_prime2 = S + deltaSprime2\n",
    "print(S_prime2)"
   ]
  },
  {
   "cell_type": "markdown",
   "metadata": {},
   "source": [
    "Second displacement matrix: DM''"
   ]
  },
  {
   "cell_type": "code",
   "execution_count": 20,
   "metadata": {},
   "outputs": [
    {
     "name": "stdout",
     "output_type": "stream",
     "text": [
      "DM' :\n",
      " [[ 0.         58.634877   25.00036494]\n",
      " [58.634877    0.         17.70593814]\n",
      " [25.00036494 17.70593814  0.        ]]\n"
     ]
    }
   ],
   "source": [
    "DM_prime2 = DM_from_S(S_prime2,verbose=1)"
   ]
  },
  {
   "cell_type": "markdown",
   "metadata": {},
   "source": [
    "Estimation of the second rotation angle: $\\theta_{r2}$"
   ]
  },
  {
   "cell_type": "code",
   "execution_count": 21,
   "metadata": {},
   "outputs": [
    {
     "name": "stdout",
     "output_type": "stream",
     "text": [
      "Coordinates to work with: 1-th and 2-th\n",
      "After normalization: \n",
      "cos(theta):\t-1.000000\n",
      "sin(theta):\t-0.000004\n",
      "\n",
      "Actual theta:\t -3.1415888146951847\n",
      "Approx theta:\t -3.1416\n",
      "-3.1416\n"
     ]
    }
   ],
   "source": [
    "theta_r2 = estimate_theta(DM2,DM_prime2,S_star2,[deltaX2,deltaY2],verbose=1)\n",
    "print(theta_r2)"
   ]
  },
  {
   "cell_type": "code",
   "execution_count": 22,
   "metadata": {},
   "outputs": [
    {
     "data": {
      "image/png": "[encoded data removed]",
      "text/plain": [
       "<Figure size 720x288 with 2 Axes>"
      ]
     },
     "metadata": {
      "needs_background": "light"
     },
     "output_type": "display_data"
    }
   ],
   "source": [
    "plot_points(S,S_star=S_star11,S_star2=S_star2)"
   ]
  },
  {
   "cell_type": "code",
   "execution_count": null,
   "metadata": {},
   "outputs": [],
   "source": [
    "print(S-S_star2)"
   ]
  },
  {
   "cell_type": "code",
   "execution_count": null,
   "metadata": {},
   "outputs": [],
   "source": [
    "for i in range(1,n_robots):\n",
    "    #print(estimate_theta2(DM2,DM_prime,S_star,[deltaX1,deltaY1],i,verbose=0))\n",
    "    break"
   ]
  },
  {
   "cell_type": "code",
   "execution_count": null,
   "metadata": {},
   "outputs": [],
   "source": []
  }
 ],
 "metadata": {
  "kernelspec": {
   "display_name": "Python 3.8.10 64-bit",
   "language": "python",
   "name": "python3"
  },
  "language_info": {
   "codemirror_mode": {
    "name": "ipython",
    "version": 3
   },
   "file_extension": ".py",
   "mimetype": "text/x-python",
   "name": "python",
   "nbconvert_exporter": "python",
   "pygments_lexer": "ipython3",
   "version": "3.8.10"
  },
  "orig_nbformat": 4,
  "vscode": {
   "interpreter": {
    "hash": "916dbcbb3f70747c44a77c7bcd40155683ae19c65e1c03b4aa3499c5328201f1"
   }
  }
 },
 "nbformat": 4,
 "nbformat_minor": 2
}
