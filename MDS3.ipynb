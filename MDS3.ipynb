{
 "cells": [
  {
   "cell_type": "markdown",
   "metadata": {},
   "source": [
    "##### Initialization"
   ]
  },
  {
   "cell_type": "code",
   "execution_count": 1,
   "metadata": {},
   "outputs": [
    {
     "name": "stdout",
     "output_type": "stream",
     "text": [
      "[[9.04968562 4.76636371 3.1947396  9.72881318 0.93089039 9.60680595\n",
      "  0.60791067 3.32710354 0.21646629 0.37063749]\n",
      " [2.60339181 7.59270767 9.60729627 9.68698812 6.91020902 8.24789468\n",
      "  0.68675271 6.14839708 7.64850849 8.31811911]]\n"
     ]
    }
   ],
   "source": [
    "import numpy as np\n",
    "from UAV import *\n",
    "import random\n",
    "from sklearn.manifold import MDS\n",
    "import matplotlib.pyplot as plt   \n",
    "\n",
    "\n",
    "n_robots = 10#int(input(\"number of robots: \"))\n",
    "platoon = []\n",
    "\n",
    "\n",
    "# initialization of n robots\n",
    "for i in range(n_robots):\n",
    "    #if i==0:\n",
    "    #    i_robot = Robot(\"op_\" + str(i),0,0,0)\n",
    "    #else:\n",
    "    i_robot = Robot(\"op_\" + str(i),random.uniform(0, 10.0),random.uniform(0, 10.0),0)\n",
    "    platoon.append(i_robot)\n",
    "\n",
    "coordinates = [[],[],[]]\n",
    "\n",
    "for rob in platoon:\n",
    "    coordinates = np.append(coordinates,rob.get_coords(),axis=1)\n",
    "\n",
    "#TRUE COORDINATES [REALITY: THEY ARE UNKNOWN]\n",
    "S = coordinates[0:2,:]\n",
    "print(S)"
   ]
  },
  {
   "cell_type": "markdown",
   "metadata": {},
   "source": [
    "##### Distance matrix definition: DM"
   ]
  },
  {
   "cell_type": "code",
   "execution_count": 2,
   "metadata": {},
   "outputs": [],
   "source": [
    "#It will be fed into the MDS algorithm\n",
    "DM  = d_matrix(platoon)  #distance matrix -> for sktlearn\n",
    "DM2 = d_matrix2(platoon) #squared distance matrix -> for formulas"
   ]
  },
  {
   "cell_type": "markdown",
   "metadata": {},
   "source": [
    "##### S* definition (estimated coordinates w/ MDS algorithm)"
   ]
  },
  {
   "cell_type": "code",
   "execution_count": 3,
   "metadata": {},
   "outputs": [
    {
     "name": "stdout",
     "output_type": "stream",
     "text": [
      "[[ 2.73397636 -0.96772254 -2.50763672 -4.28210045  0.68471123 -2.86223925\n",
      "   6.77933491  0.79617346  0.15615939 -0.5306564 ]\n",
      " [-5.77826393 -0.34662885  1.69447392 -4.59412163  3.18235108 -4.84898051\n",
      "   1.86847388  0.6711606   4.06345874  4.08807671]]\n"
     ]
    }
   ],
   "source": [
    "#SKTLEARN MDS: DIMENSIONALITY REDUCTION\n",
    "n_components = 2\n",
    "embedding = MDS(n_components=2,\n",
    "                n_init = 50,\n",
    "                max_iter = 10000,\n",
    "                eps=1e-5,\n",
    "                dissimilarity='precomputed') \n",
    "\n",
    "#ESTIMATED COORDINATES (MAY BE AFFECTED BY FLIP AND ROTATION)\n",
    "S_star = embedding.fit_transform(DM).T\n",
    "print(S_star)"
   ]
  },
  {
   "cell_type": "markdown",
   "metadata": {},
   "source": [
    "##### S' definition (to overcome rotation and flip ambiguities)"
   ]
  },
  {
   "cell_type": "code",
   "execution_count": 4,
   "metadata": {},
   "outputs": [
    {
     "name": "stdout",
     "output_type": "stream",
     "text": [
      "[[9.14968562 4.76636371 3.1947396  9.72881318 0.93089039 9.60680595\n",
      "  0.60791067 3.32710354 0.21646629 0.37063749]\n",
      " [2.70339181 7.59270767 9.60729627 9.68698812 6.91020902 8.24789468\n",
      "  0.68675271 6.14839708 7.64850849 8.31811911]]\n"
     ]
    }
   ],
   "source": [
    "#FIRST DISPLACEMENT\n",
    "deltaX1 = deltaY1 = 0.1\n",
    "\n",
    "deltaSprime = np.array([[0 for i in range(n_robots)] for j in range(2)],dtype=float)\n",
    "deltaSprime[:,0] = [deltaX1,deltaY1]\n",
    "\n",
    "Sprime = S + deltaSprime\n",
    "print(Sprime)"
   ]
  },
  {
   "cell_type": "markdown",
   "metadata": {},
   "source": [
    "##### DM' definition (new distance matrix from S' coordinates)"
   ]
  },
  {
   "cell_type": "code",
   "execution_count": 5,
   "metadata": {},
   "outputs": [
    {
     "name": "stdout",
     "output_type": "stream",
     "text": [
      "DM' :\n",
      " [[  0.          43.11892061  83.12527903  49.10600618  85.24590614\n",
      "   30.95047114  77.02875257  45.77052345 104.25658663 108.5968488 ]\n",
      " [ 43.11892061   0.           6.52856958  29.01191539  15.17665997\n",
      "   23.8591511   64.98494551   4.1575029   20.70468021  19.84863073]\n",
      " [ 83.12527903   6.52856958   0.          42.70046839  12.39929288\n",
      "   42.96256754  86.26778129  11.98150382  12.70696144   9.63753046]\n",
      " [ 49.10600618  29.01191539  42.70046839   0.          85.11394762\n",
      "    2.08587568 164.19509999  53.50351286  94.64014252  89.44925462]\n",
      " [ 85.24590614  15.17665997  12.39929288  85.11394762   0.\n",
      "   77.06091368  38.8357243    6.32219489   1.0554879    2.29609414]\n",
      " [ 30.95047114  23.8591511   42.96256754   2.08587568  77.06091368\n",
      "    0.         138.15098408  43.84255248  88.53774261  85.31173921]\n",
      " [ 77.02875257  64.98494551  86.26778129 164.19509999  38.8357243\n",
      "  138.15098408   0.          37.22356908  48.61927224  58.29405166]\n",
      " [ 45.77052345   4.1575029   11.98150382  53.50351286   6.32219489\n",
      "   43.84255248  37.22356908   0.          11.92639833  13.44838518]\n",
      " [104.25658663  20.70468021  12.70696144  94.64014252   1.0554879\n",
      "   88.53774261  48.61927224  11.92639833   0.           0.47214714]\n",
      " [108.5968488   19.84863073   9.63753046  89.44925462   2.29609414\n",
      "   85.31173921  58.29405166  13.44838518   0.47214714   0.        ]]\n"
     ]
    }
   ],
   "source": [
    "DM_prime = DM_from_S(Sprime,verbose=1)"
   ]
  },
  {
   "cell_type": "code",
   "execution_count": 6,
   "metadata": {},
   "outputs": [
    {
     "name": "stdout",
     "output_type": "stream",
     "text": [
      "[[ 0.00000000e+00  1.21198789e-01  2.09791687e-01  1.53254477e+00\n",
      "  -7.82395605e-01  1.22032464e+00 -2.09168281e+00 -4.55515362e-01\n",
      "  -7.77620530e-01 -6.12864167e-01]\n",
      " [ 1.21198789e-01  0.00000000e+00  1.50990331e-14  0.00000000e+00\n",
      "   0.00000000e+00  2.13162821e-14 -1.42108547e-14 -3.55271368e-15\n",
      "   7.10542736e-15  0.00000000e+00]\n",
      " [ 2.09791687e-01  1.50990331e-14  0.00000000e+00  0.00000000e+00\n",
      "   8.88178420e-15  1.42108547e-14  0.00000000e+00 -8.88178420e-15\n",
      "   8.88178420e-15  0.00000000e+00]\n",
      " [ 1.53254477e+00  1.42108547e-14 -1.42108547e-14  0.00000000e+00\n",
      "  -4.26325641e-14 -6.66133815e-15 -5.68434189e-14  7.10542736e-15\n",
      "   2.84217094e-14  1.42108547e-14]\n",
      " [-7.82395605e-01 -7.10542736e-15  1.77635684e-15 -4.26325641e-14\n",
      "   0.00000000e+00 -1.42108547e-14 -1.42108547e-14  5.32907052e-15\n",
      "  -6.66133815e-16 -7.54951657e-15]\n",
      " [ 1.22032464e+00  7.10542736e-15  1.42108547e-14 -6.66133815e-15\n",
      "  -1.42108547e-14  0.00000000e+00 -2.84217094e-14  0.00000000e+00\n",
      "   0.00000000e+00 -2.84217094e-14]\n",
      " [-2.09168281e+00  0.00000000e+00  0.00000000e+00 -5.68434189e-14\n",
      "  -1.42108547e-14 -2.84217094e-14  0.00000000e+00 -1.42108547e-14\n",
      "  -7.10542736e-15 -7.10542736e-15]\n",
      " [-4.55515362e-01  3.55271368e-15 -1.59872116e-14  0.00000000e+00\n",
      "   5.32907052e-15 -7.10542736e-15 -1.42108547e-14  0.00000000e+00\n",
      "   3.55271368e-15  0.00000000e+00]\n",
      " [-7.77620530e-01  7.10542736e-15  1.59872116e-14  2.84217094e-14\n",
      "  -6.66133815e-16  0.00000000e+00 -1.42108547e-14  3.55271368e-15\n",
      "   0.00000000e+00 -1.33226763e-15]\n",
      " [-6.12864167e-01  0.00000000e+00  0.00000000e+00  1.42108547e-14\n",
      "  -4.44089210e-16 -2.84217094e-14 -1.42108547e-14  0.00000000e+00\n",
      "   5.77315973e-15  0.00000000e+00]]\n"
     ]
    }
   ],
   "source": [
    "#CHECK IF THE DIFFERENCES IN DISTANCE ARE CLOSED TO ZERO\n",
    "print(DM2 - DM_prime)"
   ]
  },
  {
   "cell_type": "markdown",
   "metadata": {},
   "source": [
    "##### Estimation of the first rotation angle: $\\theta_r$"
   ]
  },
  {
   "cell_type": "code",
   "execution_count": 7,
   "metadata": {},
   "outputs": [
    {
     "name": "stdout",
     "output_type": "stream",
     "text": [
      "Coordinates to work with: 3-th and 4-th\n",
      "After normalization: \n",
      "cos(theta):\t-0.978705\n",
      "sin(theta):\t-0.205271\n",
      "\n",
      "Actual theta:\t -2.934851934642063\n",
      "Approxim theta:\t -2.9349\n"
     ]
    }
   ],
   "source": [
    "theta_r = estimate_theta(DM2,DM_prime,S_star,[deltaX1,deltaY1],3,verbose=1)"
   ]
  },
  {
   "cell_type": "code",
   "execution_count": 8,
   "metadata": {},
   "outputs": [
    {
     "name": "stdout",
     "output_type": "stream",
     "text": [
      "[[-1.48994482  1.01826116  2.10651486  5.13378038 -1.32323223  3.79644409\n",
      "  -7.01849269 -0.91696524 -0.98675512 -0.31961039]\n",
      " [ 6.21635144  0.14065089 -2.1730345   3.61754569 -2.97409554  4.15836962\n",
      "  -0.43742068 -0.49348099 -3.94492041 -4.10996552]]\n"
     ]
    }
   ],
   "source": [
    "S_star2 = rotateMatrix(theta_r)@S_star\n",
    "print(S_star2)"
   ]
  },
  {
   "cell_type": "markdown",
   "metadata": {},
   "source": [
    "Second displacement: $\\left[\\Delta x_2, \\Delta y_2\\right]$"
   ]
  },
  {
   "cell_type": "code",
   "execution_count": 9,
   "metadata": {},
   "outputs": [
    {
     "name": "stdout",
     "output_type": "stream",
     "text": [
      "[[9.34968562 4.76636371 3.1947396  9.72881318 0.93089039 9.60680595\n",
      "  0.60791067 3.32710354 0.21646629 0.37063749]\n",
      " [2.90339181 7.59270767 9.60729627 9.68698812 6.91020902 8.24789468\n",
      "  0.68675271 6.14839708 7.64850849 8.31811911]]\n"
     ]
    }
   ],
   "source": [
    "deltaX2 = deltaY2 = 0.3\n",
    "\n",
    "deltaSprime2 = np.array([[0 for i in range(n_robots)] for j in range(2)],dtype=float)\n",
    "deltaSprime2[:,0] = [deltaX2,deltaY2]\n",
    "\n",
    "S_prime2 = S + deltaSprime2\n",
    "print(S_prime2)"
   ]
  },
  {
   "cell_type": "markdown",
   "metadata": {},
   "source": [
    "Second displacement matrix: DM''"
   ]
  },
  {
   "cell_type": "code",
   "execution_count": 10,
   "metadata": {},
   "outputs": [
    {
     "name": "stdout",
     "output_type": "stream",
     "text": [
      "DM' :\n",
      " [[  0.          42.99652303  82.82569566  46.16091663  86.93069735\n",
      "   28.62982186  81.33211819  46.80155418 105.93182769 109.94257713]\n",
      " [ 42.99652303   0.           6.52856958  29.01191539  15.17665997\n",
      "   23.8591511   64.98494551   4.1575029   20.70468021  19.84863073]\n",
      " [ 82.82569566   6.52856958   0.          42.70046839  12.39929288\n",
      "   42.96256754  86.26778129  11.98150382  12.70696144   9.63753046]\n",
      " [ 46.16091663  29.01191539  42.70046839   0.          85.11394762\n",
      "    2.08587568 164.19509999  53.50351286  94.64014252  89.44925462]\n",
      " [ 86.93069735  15.17665997  12.39929288  85.11394762   0.\n",
      "   77.06091368  38.8357243    6.32219489   1.0554879    2.29609414]\n",
      " [ 28.62982186  23.8591511   42.96256754   2.08587568  77.06091368\n",
      "    0.         138.15098408  43.84255248  88.53774261  85.31173921]\n",
      " [ 81.33211819  64.98494551  86.26778129 164.19509999  38.8357243\n",
      "  138.15098408   0.          37.22356908  48.61927224  58.29405166]\n",
      " [ 46.80155418   4.1575029   11.98150382  53.50351286   6.32219489\n",
      "   43.84255248  37.22356908   0.          11.92639833  13.44838518]\n",
      " [105.93182769  20.70468021  12.70696144  94.64014252   1.0554879\n",
      "   88.53774261  48.61927224  11.92639833   0.           0.47214714]\n",
      " [109.94257713  19.84863073   9.63753046  89.44925462   2.29609414\n",
      "   85.31173921  58.29405166  13.44838518   0.47214714   0.        ]]\n"
     ]
    }
   ],
   "source": [
    "DM_prime2 = DM_from_S(S_prime2,verbose=1)"
   ]
  },
  {
   "cell_type": "markdown",
   "metadata": {},
   "source": [
    "Estimation of the second rotation angle: $\\theta_{r2}$"
   ]
  },
  {
   "cell_type": "code",
   "execution_count": 11,
   "metadata": {},
   "outputs": [
    {
     "name": "stdout",
     "output_type": "stream",
     "text": [
      "Coordinates to work with: 1-th and 2-th\n",
      "After normalization: \n",
      "cos(theta):\t0.825080\n",
      "sin(theta):\t-0.565016\n",
      "\n",
      "Actual theta:\t -0.6004526537037851\n",
      "Approxim theta:\t -0.6005\n",
      "-0.6005\n"
     ]
    }
   ],
   "source": [
    "theta_r2 = estimate_theta(DM2,DM_prime2,S_star2,[deltaX2,deltaY2],verbose=1)\n",
    "print(theta_r2)"
   ]
  },
  {
   "cell_type": "code",
   "execution_count": 12,
   "metadata": {},
   "outputs": [
    {
     "data": {
      "image/png": "[encoded data removed]",
      "text/plain": [
       "<Figure size 720x288 with 2 Axes>"
      ]
     },
     "metadata": {
      "needs_background": "light"
     },
     "output_type": "display_data"
    }
   ],
   "source": [
    "plot_points(S,S_star=S_star,S_star2=S_star2)"
   ]
  },
  {
   "cell_type": "code",
   "execution_count": 13,
   "metadata": {},
   "outputs": [
    {
     "name": "stdout",
     "output_type": "stream",
     "text": [
      "[[10.53963044  3.74810254  1.08822474  4.5950328   2.25412262  5.81036186\n",
      "   7.62640336  4.24406878  1.20322141  0.69024788]\n",
      " [-3.61295963  7.45205678 11.78033077  6.06944243  9.88430456  4.08952507\n",
      "   1.12417339  6.64187807 11.5934289  12.42808463]]\n"
     ]
    }
   ],
   "source": [
    "print(S-S_star2)"
   ]
  },
  {
   "cell_type": "code",
   "execution_count": 14,
   "metadata": {},
   "outputs": [
    {
     "name": "stdout",
     "output_type": "stream",
     "text": [
      "2.7478\n",
      "3.0243\n",
      "-2.9349\n",
      "-2.5418\n",
      "2.6666\n",
      "-2.7728\n",
      "2.7575\n",
      "2.9794\n"
     ]
    }
   ],
   "source": [
    "for i in range(1,n_robots-1):\n",
    "    print(estimate_theta2(DM2,DM_prime,S_star,[deltaX1,deltaY1],i,verbose=0))"
   ]
  }
 ],
 "metadata": {
  "kernelspec": {
   "display_name": "Python 3.8.10 64-bit",
   "language": "python",
   "name": "python3"
  },
  "language_info": {
   "codemirror_mode": {
    "name": "ipython",
    "version": 3
   },
   "file_extension": ".py",
   "mimetype": "text/x-python",
   "name": "python",
   "nbconvert_exporter": "python",
   "pygments_lexer": "ipython3",
   "version": "3.8.10"
  },
  "orig_nbformat": 4,
  "vscode": {
   "interpreter": {
    "hash": "916dbcbb3f70747c44a77c7bcd40155683ae19c65e1c03b4aa3499c5328201f1"
   }
  }
 },
 "nbformat": 4,
 "nbformat_minor": 2
}
