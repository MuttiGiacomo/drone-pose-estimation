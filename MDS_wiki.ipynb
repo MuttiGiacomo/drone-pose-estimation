{
 "cells": [
  {
   "cell_type": "markdown",
   "metadata": {},
   "source": [
    "##### Initialization: definition of robots and coordinates"
   ]
  },
  {
   "cell_type": "code",
   "execution_count": 1,
   "metadata": {},
   "outputs": [
    {
     "name": "stdout",
     "output_type": "stream",
     "text": [
      "[[7.13789683 9.10019425 7.99557024]\n",
      " [9.98812933 4.34708366 3.07452286]]\n"
     ]
    }
   ],
   "source": [
    "import numpy as np\n",
    "from UAV import *\n",
    "import random\n",
    "import matplotlib.pyplot as plt   \n",
    "\n",
    "\n",
    "n_robots = 3#int(input(\"number of robots: \"))\n",
    "n_components = 2\n",
    "platoon = []\n",
    "\n",
    "\n",
    "# initialization of n robots\n",
    "for i in range(n_robots):\n",
    "    #if i==0:\n",
    "    #    i_robot = Robot(\"op_\" + str(i),0,0,0)\n",
    "    #else:\n",
    "    i_robot = Robot(\"op_\" + str(i),random.uniform(0, 10.0),random.uniform(0, 10.0),0)\n",
    "    platoon.append(i_robot)\n",
    "\n",
    "coordinates = [[],[],[]]\n",
    "\n",
    "for rob in platoon:\n",
    "    coordinates = np.append(coordinates,rob.get_coords(),axis=1)\n",
    "\n",
    "#TRUE COORDINATES [REALITY: THEY ARE UNKNOWN]\n",
    "S = coordinates[0:2,:]\n",
    "\n",
    "print(S)"
   ]
  },
  {
   "cell_type": "markdown",
   "metadata": {},
   "source": [
    "##### Definition of the (squared) distance matrix"
   ]
  },
  {
   "cell_type": "code",
   "execution_count": 2,
   "metadata": {},
   "outputs": [
    {
     "name": "stdout",
     "output_type": "stream",
     "text": [
      "[[ 0.         35.67200745 48.53355804]\n",
      " [35.67200745  0.          2.83960517]\n",
      " [48.53355804  2.83960517  0.        ]]\n"
     ]
    }
   ],
   "source": [
    "DM2 = d_matrix2(platoon) #squared distance matrix -> for formulas\n",
    "print(DM2)"
   ]
  },
  {
   "cell_type": "markdown",
   "metadata": {},
   "source": [
    "##### S* estimation through EigenValue Decomposition"
   ]
  },
  {
   "cell_type": "code",
   "execution_count": 3,
   "metadata": {},
   "outputs": [
    {
     "name": "stdout",
     "output_type": "stream",
     "text": [
      "[[-4.81804688  1.42363019  2.24066869]\n",
      " [ 0.13442128 -0.82832433  0.81532605]]\n"
     ]
    }
   ],
   "source": [
    "S_star = EVD(DM2,n_components)\n",
    "print(S_star)"
   ]
  },
  {
   "cell_type": "markdown",
   "metadata": {},
   "source": [
    "The new coordinates may be affected by rotation and flip ambiguities. Thus we must solve the problem with further analysis"
   ]
  },
  {
   "cell_type": "markdown",
   "metadata": {},
   "source": [
    "##### Identification of rotation ambiguity"
   ]
  },
  {
   "cell_type": "markdown",
   "metadata": {},
   "source": [
    "DM' : a new acquisition for the distances\n",
    "\n",
    "We now introduce a displacement for the anchor, in order to build a new (squared) distance matrix.\n",
    "\n",
    "In reality what we do is applying a displacement to the anchor and we get a new distance matrix"
   ]
  },
  {
   "cell_type": "code",
   "execution_count": 4,
   "metadata": {},
   "outputs": [
    {
     "name": "stdout",
     "output_type": "stream",
     "text": [
      "[[ 7.23789683  9.10019425  7.99557024]\n",
      " [10.08812933  4.34708366  3.07452286]]\n",
      "DM' :\n",
      " [[ 0.         36.4277571  49.76474465]\n",
      " [36.4277571   0.          2.83960517]\n",
      " [49.76474465  2.83960517  0.        ]]\n"
     ]
    }
   ],
   "source": [
    "deltaX1 = deltaY1 = 0.1\n",
    "\n",
    "DeltaS_prime = np.array([[0 for i in range(n_robots)] for j in range(2)],dtype=float)\n",
    "DeltaS_prime[:,0] = [deltaX1,deltaY1]\n",
    "\n",
    "S_prime = S + DeltaS_prime\n",
    "print(S_prime)\n",
    "\n",
    "DM_prime = DM_from_S(S_prime,verbose=1)"
   ]
  },
  {
   "cell_type": "markdown",
   "metadata": {},
   "source": [
    "Estimation of the rotation angle $\\theta_r$"
   ]
  },
  {
   "cell_type": "code",
   "execution_count": 5,
   "metadata": {},
   "outputs": [
    {
     "name": "stdout",
     "output_type": "stream",
     "text": [
      "Coordinates to work with: 1-th and 2-th\n",
      "After normalization: \n",
      "cos(theta):\t-0.739677\n",
      "sin(theta):\t0.672962\n",
      "\n",
      "Actual theta:\t 2.4033861407574637\n",
      "Approx theta:\tDisabled\n"
     ]
    }
   ],
   "source": [
    "theta_r = estimate_theta(DM2,DM_prime,S_star,[deltaX1,deltaY1],verbose=1)"
   ]
  },
  {
   "cell_type": "markdown",
   "metadata": {},
   "source": [
    "S** : estimated-rotated coordinates"
   ]
  },
  {
   "cell_type": "code",
   "execution_count": 6,
   "metadata": {},
   "outputs": [],
   "source": [
    "S_star2 = rotateMatrix(theta_r)@S_star"
   ]
  },
  {
   "cell_type": "markdown",
   "metadata": {},
   "source": [
    "##### Identification of flip ambiguity"
   ]
  },
  {
   "cell_type": "markdown",
   "metadata": {},
   "source": [
    "We have to check if there is any flip ambiguity. To do so, we have to move the anchor one more time"
   ]
  },
  {
   "cell_type": "code",
   "execution_count": 7,
   "metadata": {},
   "outputs": [
    {
     "name": "stdout",
     "output_type": "stream",
     "text": [
      "[[ 7.23789683  9.10019425  7.99557024]\n",
      " [10.08812933  4.34708366  3.07452286]]\n",
      "DM' :\n",
      " [[ 0.         39.25746554 53.79983917]\n",
      " [39.25746554  0.          2.83960517]\n",
      " [53.79983917  2.83960517  0.        ]]\n"
     ]
    }
   ],
   "source": [
    "deltaX2 = 0.3\n",
    "deltaY2 = 0.4\n",
    "\n",
    "DeltaS_prime2 = np.array([[0 for i in range(n_robots)] for j in range(2)],dtype=float)\n",
    "DeltaS_prime2[:,0] = [deltaX2,deltaY2]\n",
    "\n",
    "S_prime2 = S + DeltaS_prime2\n",
    "print(S_prime)\n",
    "\n",
    "DM_prime2 = DM_from_S(S_prime2,verbose=1)"
   ]
  },
  {
   "cell_type": "markdown",
   "metadata": {},
   "source": [
    "Now we estimate a second rotation angle $\\theta_{r2}$: if = 0, no flip ambiguity"
   ]
  },
  {
   "cell_type": "code",
   "execution_count": 8,
   "metadata": {},
   "outputs": [
    {
     "name": "stdout",
     "output_type": "stream",
     "text": [
      "Wrong estimated angle: 2.4033861407574637\n",
      "True  estimated angle: -0.8325898139625673\n"
     ]
    },
    {
     "data": {
      "image/png": "[encoded data removed]",
      "text/plain": [
       "<Figure size 1800x576 with 10 Axes>"
      ]
     },
     "metadata": {
      "needs_background": "light"
     },
     "output_type": "display_data"
    }
   ],
   "source": [
    "theta_r2 = estimate_theta(DM2,DM_prime2,S_star2,[deltaX2,deltaY2],verbose=0)\n",
    "\n",
    "S_star3 = np.copy(S_star)\n",
    "S_star4 = np.copy(S_star)\n",
    "\n",
    "if (theta_r2 != 0):\n",
    "    F = np.array([[-1,0],[0,1]])\n",
    "    \n",
    "    theta_r3 = estimate_theta(DM2,DM_prime,F@S_star,[deltaX1,deltaY1],verbose=0)\n",
    "\n",
    "    print(\"Wrong estimated angle:\",theta_r)\n",
    "    print(\"True  estimated angle:\", theta_r3)\n",
    "\n",
    "    S_star3 = rotateMatrix(theta_r3)@F@S_star\n",
    "    S_star4 = rotateMatrix(theta_r3)@S_star\n",
    "\n",
    "plot_points(S,S_star  = S_star,\n",
    "              S_star1 = rotateMatrix(theta_r)@S_star,\n",
    "              S_star2 = rotateMatrix(theta_r+theta_r2)@S_star,\n",
    "              S_star3 = rotateMatrix(theta_r3)@S_star,\n",
    "              S_star4 = rotateMatrix(theta_r3)@F@S_star,\n",
    "              match = 1\n",
    "            )"
   ]
  },
  {
   "cell_type": "code",
   "execution_count": 9,
   "metadata": {},
   "outputs": [
    {
     "data": {
      "image/png": "[encoded data removed]",
      "text/plain": [
       "<Figure size 720x288 with 2 Axes>"
      ]
     },
     "metadata": {
      "needs_background": "light"
     },
     "output_type": "display_data"
    }
   ],
   "source": [
    "plot_points(S,S_star  = S_star,\n",
    "              S_star1 = F@S_star\n",
    "            )"
   ]
  }
 ],
 "metadata": {
  "kernelspec": {
   "display_name": "Python 3.8.10 64-bit",
   "language": "python",
   "name": "python3"
  },
  "language_info": {
   "codemirror_mode": {
    "name": "ipython",
    "version": 3
   },
   "file_extension": ".py",
   "mimetype": "text/x-python",
   "name": "python",
   "nbconvert_exporter": "python",
   "pygments_lexer": "ipython3",
   "version": "3.8.10"
  },
  "orig_nbformat": 4,
  "vscode": {
   "interpreter": {
    "hash": "916dbcbb3f70747c44a77c7bcd40155683ae19c65e1c03b4aa3499c5328201f1"
   }
  }
 },
 "nbformat": 4,
 "nbformat_minor": 2
}
