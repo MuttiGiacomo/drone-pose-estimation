{
 "cells": [
  {
   "cell_type": "code",
   "execution_count": 26,
   "metadata": {},
   "outputs": [],
   "source": [
    "import numpy as np\n",
    "from paramiko import SSHClient\n",
    "from UAV import *\n",
    "import random\n",
    "from sklearn.manifold import MDS"
   ]
  },
  {
   "cell_type": "markdown",
   "metadata": {},
   "source": [
    "Definition of the Distance Matrix"
   ]
  },
  {
   "cell_type": "code",
   "execution_count": 27,
   "metadata": {},
   "outputs": [
    {
     "name": "stdout",
     "output_type": "stream",
     "text": [
      "[[0.         4.87648178 2.13377046]\n",
      " [4.87648178 0.         3.21041103]\n",
      " [2.13377046 3.21041103 0.        ]]\n"
     ]
    }
   ],
   "source": [
    "n_robots = int(input(\"number of robots: \"))\n",
    "platoon = []\n",
    "\n",
    "# initialization of n robots\n",
    "for i in range(n_robots):\n",
    "    i_robot = Robot(\"op_\" + str(i),random.uniform(0, 10.0),random.uniform(0, 10.0),0)\n",
    "    platoon.append(i_robot)\n",
    "\n",
    "DM = d_matrix(platoon)\n",
    "print(DM)"
   ]
  },
  {
   "cell_type": "markdown",
   "metadata": {},
   "source": [
    "Identity matrix"
   ]
  },
  {
   "cell_type": "code",
   "execution_count": 28,
   "metadata": {},
   "outputs": [
    {
     "name": "stdout",
     "output_type": "stream",
     "text": [
      "[[1. 0. 0.]\n",
      " [0. 1. 0.]\n",
      " [0. 0. 1.]]\n"
     ]
    }
   ],
   "source": [
    "I   = np.eye(n_robots)\n",
    "print(I)"
   ]
  },
  {
   "cell_type": "markdown",
   "metadata": {},
   "source": [
    "Definition of the e vector and the H matrix"
   ]
  },
  {
   "cell_type": "code",
   "execution_count": 29,
   "metadata": {},
   "outputs": [
    {
     "name": "stdout",
     "output_type": "stream",
     "text": [
      "[[ 0.88888889 -0.11111111 -0.11111111]\n",
      " [-0.11111111  0.88888889 -0.11111111]\n",
      " [-0.11111111 -0.11111111  0.88888889]]\n"
     ]
    }
   ],
   "source": [
    "e   = np.array([1/n_robots for i in range(n_robots)])\n",
    "etr = np.array([[1/n_robots] for i in range(n_robots)])\n",
    "\n",
    "H = I - e*etr\n",
    "print(H)"
   ]
  },
  {
   "cell_type": "markdown",
   "metadata": {},
   "source": [
    "Eigendecomposition of the matrix -1/2*H*D*H"
   ]
  },
  {
   "cell_type": "code",
   "execution_count": 30,
   "metadata": {},
   "outputs": [
    {
     "name": "stdout",
     "output_type": "stream",
     "text": [
      "[[-0.         -0.03010174 -0.01317142]\n",
      " [-0.03010174 -0.         -0.01981735]\n",
      " [-0.01317142 -0.01981735 -0.        ]] \n",
      "\n",
      "[[-0.04288116  0.          0.        ]\n",
      " [-0.          0.0310963   0.        ]\n",
      " [-0.          0.          0.01178487]] \n",
      "\n",
      " [[ 0.59797867  0.64170997  0.48023934]\n",
      " [ 0.63400754 -0.74527181  0.20640825]\n",
      " [-0.49036308 -0.18104763  0.8525056 ]]\n"
     ]
    },
    {
     "name": "stderr",
     "output_type": "stream",
     "text": [
      "/tmp/ipykernel_13468/2287130934.py:13: RuntimeWarning: invalid value encountered in sqrt\n",
      "  Sstar  = np.sqrt(LAMBDA).transpose(U)\n"
     ]
    },
    {
     "ename": "TypeError",
     "evalue": "only integer scalar arrays can be converted to a scalar index",
     "output_type": "error",
     "traceback": [
      "\u001b[0;31m---------------------------------------------------------------------------\u001b[0m",
      "\u001b[0;31mTypeError\u001b[0m                                 Traceback (most recent call last)",
      "\u001b[1;32m/home/oselin/Documents/drone-pose-estimation/MDS.ipynb Cell 9\u001b[0m in \u001b[0;36m<cell line: 13>\u001b[0;34m()\u001b[0m\n\u001b[1;32m     <a href='vscode-notebook-cell:/home/oselin/Documents/drone-pose-estimation/MDS.ipynb#ch0000001?line=9'>10</a>\u001b[0m U      \u001b[39m=\u001b[39m np\u001b[39m.\u001b[39mtranspose(EV)\n\u001b[1;32m     <a href='vscode-notebook-cell:/home/oselin/Documents/drone-pose-estimation/MDS.ipynb#ch0000001?line=10'>11</a>\u001b[0m \u001b[39mprint\u001b[39m(LAMBDA,\u001b[39m'\u001b[39m\u001b[39m\\n\u001b[39;00m\u001b[39m\\n\u001b[39;00m\u001b[39m'\u001b[39m,U)\n\u001b[0;32m---> <a href='vscode-notebook-cell:/home/oselin/Documents/drone-pose-estimation/MDS.ipynb#ch0000001?line=12'>13</a>\u001b[0m Sstar  \u001b[39m=\u001b[39m np\u001b[39m.\u001b[39;49msqrt(LAMBDA)\u001b[39m.\u001b[39;49mtranspose(U)\n\u001b[1;32m     <a href='vscode-notebook-cell:/home/oselin/Documents/drone-pose-estimation/MDS.ipynb#ch0000001?line=14'>15</a>\u001b[0m \u001b[39mprint\u001b[39m(Sstar)\n",
      "\u001b[0;31mTypeError\u001b[0m: only integer scalar arrays can be converted to a scalar index"
     ]
    }
   ],
   "source": [
    "print(-1/2*H*DM*H,'\\n')\n",
    "\n",
    "#Eigenvalues ev, eigenvectors EV\n",
    "ev,EV = np.linalg.eig(-1/2*H*DM*H)\n",
    "\n",
    "#Lambda is the diagonal matrix whose elements are the eigenvalues\n",
    "LAMBDA = np.eye(n_robots)*ev\n",
    "\n",
    "#U is the matrix whose columns are the eigenvectors\n",
    "U      = np.transpose(EV)\n",
    "print(LAMBDA,'\\n\\n',U)\n",
    "\n",
    "Sstar  = np.sqrt(LAMBDA).transpose(U)\n",
    "\n",
    "print(Sstar)"
   ]
  },
  {
   "cell_type": "markdown",
   "metadata": {},
   "source": [
    "Scikit learn MDS approach"
   ]
  },
  {
   "cell_type": "code",
   "execution_count": 33,
   "metadata": {},
   "outputs": [
    {
     "name": "stdout",
     "output_type": "stream",
     "text": [
      "[[-2.21109124  0.39919293]\n",
      " [ 2.61359693  0.41537717]\n",
      " [-0.40250569 -0.8145701 ]]\n"
     ]
    }
   ],
   "source": [
    "n_components = 2                                   # p, reduced dimensionality space\n",
    "embedding = MDS(n_components=2,n_init = 20,max_iter = 1000,random_state = 73073,dissimilarity='precomputed') # instantiate and set the hyperparameter\n",
    "MDS_transformed = embedding.fit_transform(DM)\n",
    "MDS_transformed.shape\n",
    "print(MDS_transformed)"
   ]
  }
 ],
 "metadata": {
  "kernelspec": {
   "display_name": "Python 3.8.10 64-bit",
   "language": "python",
   "name": "python3"
  },
  "language_info": {
   "codemirror_mode": {
    "name": "ipython",
    "version": 3
   },
   "file_extension": ".py",
   "mimetype": "text/x-python",
   "name": "python",
   "nbconvert_exporter": "python",
   "pygments_lexer": "ipython3",
   "version": "3.8.10"
  },
  "orig_nbformat": 4,
  "vscode": {
   "interpreter": {
    "hash": "916dbcbb3f70747c44a77c7bcd40155683ae19c65e1c03b4aa3499c5328201f1"
   }
  }
 },
 "nbformat": 4,
 "nbformat_minor": 2
}
