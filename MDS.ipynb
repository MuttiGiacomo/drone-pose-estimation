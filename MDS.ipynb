{
 "cells": [
  {
   "cell_type": "code",
   "execution_count": 4,
   "metadata": {},
   "outputs": [],
   "source": [
    "import numpy as np\n",
    "from paramiko import SSHClient\n",
    "from UAV import *\n",
    "import random"
   ]
  },
  {
   "cell_type": "markdown",
   "metadata": {},
   "source": [
    "Definition of the Distance Matrix"
   ]
  },
  {
   "cell_type": "code",
   "execution_count": 10,
   "metadata": {},
   "outputs": [
    {
     "name": "stdout",
     "output_type": "stream",
     "text": [
      "[[ 0.          7.69628883  7.97206749  6.36926142  7.70556769]\n",
      " [ 7.69628883  0.          4.69052965  6.45134368  4.26694108]\n",
      " [ 7.97206749  4.69052965  0.         10.06237505  8.65014365]\n",
      " [ 6.36926142  6.45134368 10.06237505  0.          2.92790526]\n",
      " [ 7.70556769  4.26694108  8.65014365  2.92790526  0.        ]]\n"
     ]
    }
   ],
   "source": [
    "n_robots = int(input(\"number of robots: \"))\n",
    "platoon = []\n",
    "\n",
    "# initialization of n robots\n",
    "for i in range(n_robots):\n",
    "    i_robot = Robot(\"op_\" + str(i),random.uniform(0, 10.0),random.uniform(0, 10.0),0)\n",
    "    platoon.append(i_robot)\n",
    "\n",
    "DM = d_matrix(platoon)\n",
    "print(DM)"
   ]
  },
  {
   "cell_type": "markdown",
   "metadata": {},
   "source": [
    "Identity matrix"
   ]
  },
  {
   "cell_type": "code",
   "execution_count": 11,
   "metadata": {},
   "outputs": [
    {
     "name": "stdout",
     "output_type": "stream",
     "text": [
      "[[1. 0. 0. 0. 0.]\n",
      " [0. 1. 0. 0. 0.]\n",
      " [0. 0. 1. 0. 0.]\n",
      " [0. 0. 0. 1. 0.]\n",
      " [0. 0. 0. 0. 1.]]\n"
     ]
    }
   ],
   "source": [
    "I   = np.eye(n_robots)\n",
    "print(I)"
   ]
  },
  {
   "cell_type": "markdown",
   "metadata": {},
   "source": [
    "Definition of the e vector and the H matrix"
   ]
  },
  {
   "cell_type": "code",
   "execution_count": 13,
   "metadata": {},
   "outputs": [
    {
     "name": "stdout",
     "output_type": "stream",
     "text": [
      "[[ 0.96 -0.04 -0.04 -0.04 -0.04]\n",
      " [-0.04  0.96 -0.04 -0.04 -0.04]\n",
      " [-0.04 -0.04  0.96 -0.04 -0.04]\n",
      " [-0.04 -0.04 -0.04  0.96 -0.04]\n",
      " [-0.04 -0.04 -0.04 -0.04  0.96]]\n"
     ]
    }
   ],
   "source": [
    "e   = np.array([1/n_robots for i in range(n_robots)])\n",
    "etr = np.array([[1/n_robots] for i in range(n_robots)])\n",
    "\n",
    "H = I - e*etr\n",
    "print(H)"
   ]
  },
  {
   "cell_type": "markdown",
   "metadata": {},
   "source": [
    "Eigendecomposition of the matrix -1/2*H*D*H"
   ]
  },
  {
   "cell_type": "code",
   "execution_count": 16,
   "metadata": {},
   "outputs": [
    {
     "name": "stdout",
     "output_type": "stream",
     "text": [
      "[[-0.02162205  0.          0.          0.          0.        ]\n",
      " [-0.          0.0017754   0.          0.          0.        ]\n",
      " [-0.          0.          0.00288256  0.          0.        ]\n",
      " [-0.          0.          0.          0.00719356  0.        ]\n",
      " [-0.          0.          0.          0.          0.00977053]] \n",
      "\n",
      "\n",
      " [[-0.48074761 -0.39370428 -0.50430094 -0.4392394  -0.40820091]\n",
      " [-0.11660969  0.4000139  -0.09337679  0.5460936  -0.72073131]\n",
      " [-0.32695977 -0.67219106  0.49564872  0.43923576 -0.0515828 ]\n",
      " [-0.80503235  0.44617753  0.09834417  0.01697905  0.37800616]\n",
      " [-0.01743927  0.18458228  0.69398999 -0.56181331 -0.41032786]]\n"
     ]
    },
    {
     "name": "stderr",
     "output_type": "stream",
     "text": [
      "/tmp/ipykernel_13468/3205072644.py:11: RuntimeWarning: invalid value encountered in sqrt\n",
      "  Sstar  = np.sqrt(LAMBDA).transpose(U)\n"
     ]
    },
    {
     "ename": "TypeError",
     "evalue": "only integer scalar arrays can be converted to a scalar index",
     "output_type": "error",
     "traceback": [
      "\u001b[0;31m---------------------------------------------------------------------------\u001b[0m",
      "\u001b[0;31mTypeError\u001b[0m                                 Traceback (most recent call last)",
      "\u001b[1;32m/home/oselin/Documents/drone-pose-estimation/MDS.ipynb Cell 9\u001b[0m in \u001b[0;36m<cell line: 11>\u001b[0;34m()\u001b[0m\n\u001b[1;32m      <a href='vscode-notebook-cell:/home/oselin/Documents/drone-pose-estimation/MDS.ipynb#ch0000001?line=7'>8</a>\u001b[0m U      \u001b[39m=\u001b[39m np\u001b[39m.\u001b[39mtranspose(EV)\n\u001b[1;32m      <a href='vscode-notebook-cell:/home/oselin/Documents/drone-pose-estimation/MDS.ipynb#ch0000001?line=8'>9</a>\u001b[0m \u001b[39mprint\u001b[39m(LAMBDA,\u001b[39m'\u001b[39m\u001b[39m\\n\u001b[39;00m\u001b[39m\\n\u001b[39;00m\u001b[39m\\n\u001b[39;00m\u001b[39m'\u001b[39m,U)\n\u001b[0;32m---> <a href='vscode-notebook-cell:/home/oselin/Documents/drone-pose-estimation/MDS.ipynb#ch0000001?line=10'>11</a>\u001b[0m Sstar  \u001b[39m=\u001b[39m np\u001b[39m.\u001b[39;49msqrt(LAMBDA)\u001b[39m.\u001b[39;49mtranspose(U)\n\u001b[1;32m     <a href='vscode-notebook-cell:/home/oselin/Documents/drone-pose-estimation/MDS.ipynb#ch0000001?line=12'>13</a>\u001b[0m \u001b[39mprint\u001b[39m(Sstar)\n",
      "\u001b[0;31mTypeError\u001b[0m: only integer scalar arrays can be converted to a scalar index"
     ]
    }
   ],
   "source": [
    "#Eigenvalues ev, eigenvectors EV\n",
    "ev,EV = np.linalg.eig(-1/2*H*DM*H)\n",
    "\n",
    "#Lambda is the diagonal matrix whose elements are the eigenvalues\n",
    "LAMBDA = np.eye(n_robots)*ev\n",
    "\n",
    "#U is the matrix whose columns are the eigenvectors\n",
    "U      = np.transpose(EV)\n",
    "print(LAMBDA,'\\n\\n',U)\n",
    "\n",
    "Sstar  = np.sqrt(LAMBDA).transpose(U)\n",
    "\n",
    "print(Sstar)"
   ]
  }
 ],
 "metadata": {
  "kernelspec": {
   "display_name": "Python 3.8.10 64-bit",
   "language": "python",
   "name": "python3"
  },
  "language_info": {
   "codemirror_mode": {
    "name": "ipython",
    "version": 3
   },
   "file_extension": ".py",
   "mimetype": "text/x-python",
   "name": "python",
   "nbconvert_exporter": "python",
   "pygments_lexer": "ipython3",
   "version": "3.8.10"
  },
  "orig_nbformat": 4,
  "vscode": {
   "interpreter": {
    "hash": "916dbcbb3f70747c44a77c7bcd40155683ae19c65e1c03b4aa3499c5328201f1"
   }
  }
 },
 "nbformat": 4,
 "nbformat_minor": 2
}
