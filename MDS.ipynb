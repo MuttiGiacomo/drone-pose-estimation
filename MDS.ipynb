{
 "cells": [
  {
   "cell_type": "markdown",
   "metadata": {},
   "source": [
    "##### Initialization: definition of robots and coordinates"
   ]
  },
  {
   "cell_type": "code",
   "execution_count": 1,
   "metadata": {},
   "outputs": [
    {
     "name": "stdout",
     "output_type": "stream",
     "text": [
      "[[0.         7.87070585 6.91731431 9.36303466 7.03505088 3.6273803\n",
      "  1.86747415 1.30305183 3.68465746 4.11280164]\n",
      " [0.         7.40551457 1.4985008  4.88617175 8.26191887 4.93263542\n",
      "  6.62756192 4.83951643 9.33196067 9.64824798]]\n"
     ]
    }
   ],
   "source": [
    "import numpy as np\n",
    "from UAV import *\n",
    "import random\n",
    "import matplotlib.pyplot as plt   \n",
    "\n",
    "\n",
    "n_robots = 10#int(input(\"number of robots: \"))\n",
    "n_components = 2\n",
    "platoon = []\n",
    "\n",
    "\n",
    "# initialization of n robots\n",
    "for i in range(n_robots):\n",
    "    if i==0:\n",
    "        i_robot = Robot(\"op_\" + str(i),0,0,0)\n",
    "    else:\n",
    "        i_robot = Robot(\"op_\" + str(i),random.uniform(0, 10.0),random.uniform(0, 10.0),0)\n",
    "    platoon.append(i_robot)\n",
    "\n",
    "coordinates = [[],[],[]]\n",
    "\n",
    "for rob in platoon:\n",
    "    coordinates = np.append(coordinates,rob.get_coords(),axis=1)\n",
    "\n",
    "#TRUE COORDINATES [REALITY: THEY ARE UNKNOWN]\n",
    "S = coordinates[0:2,:]\n",
    "\n",
    "print(S)"
   ]
  },
  {
   "cell_type": "markdown",
   "metadata": {},
   "source": [
    "##### Definition of the (squared) distance matrix"
   ]
  },
  {
   "cell_type": "code",
   "execution_count": 2,
   "metadata": {},
   "outputs": [
    {
     "name": "stdout",
     "output_type": "stream",
     "text": [
      "[[  0.         116.78965658  50.09474192 111.5410924  117.75124441\n",
      "   37.48878008  47.41203663  25.11886338 100.66219061 110.00382636]\n",
      " [116.78965658   0.          35.80176702   8.5741335    1.43174756\n",
      "   24.12094296  36.64400121  49.71842579  21.23419573  19.15169716]\n",
      " [ 50.09474192  35.80176702   0.          17.45786247  45.75768587\n",
      "   22.61694635  51.80815356  42.68232867  71.81316384  74.28367024]\n",
      " [111.5410924    8.5741335   17.45786247   0.          16.81517709\n",
      "   32.89988976  59.21586711  64.96549998  52.00900677  50.24231668]\n",
      " [117.75124441   1.43174756  45.75768587  16.81517709   0.\n",
      "   22.69634708  29.37497201  44.56865165  12.37012556  10.461449  ]\n",
      " [ 37.48878008  24.12094296  22.61694635  32.89988976  22.69634708\n",
      "    0.           5.9700455    5.41117401  19.35734333  22.47263562]\n",
      " [ 47.41203663  36.64400121  51.80815356  59.21586711  29.37497201\n",
      "    5.9700455    0.           3.5156792   10.61592784  14.16603985]\n",
      " [ 25.11886338  49.71842579  42.68232867  64.96549998  44.56865165\n",
      "    5.41117401   3.5156792    0.          25.85410064  31.01859307]\n",
      " [100.66219061  21.23419573  71.81316384  52.00900677  12.37012556\n",
      "   19.35734333  10.61592784  25.85410064   0.           0.2833451 ]\n",
      " [110.00382636  19.15169716  74.28367024  50.24231668  10.461449\n",
      "   22.47263562  14.16603985  31.01859307   0.2833451    0.        ]]\n",
      "\n",
      " [[ 0.00000000e+00  1.42108547e-14 -7.10542736e-15  0.00000000e+00\n",
      "   0.00000000e+00 -7.10542736e-15  7.10542736e-15  0.00000000e+00\n",
      "   0.00000000e+00 -1.42108547e-14]\n",
      " [ 1.42108547e-14  0.00000000e+00  7.10542736e-15 -1.77635684e-14\n",
      "   2.02060590e-14 -7.10542736e-15  7.10542736e-15 -7.10542736e-15\n",
      "  -1.06581410e-14  3.55271368e-15]\n",
      " [-7.10542736e-15  1.42108547e-14  0.00000000e+00 -7.10542736e-15\n",
      "   7.10542736e-15 -1.06581410e-14  0.00000000e+00  7.10542736e-15\n",
      "  -1.42108547e-14 -1.42108547e-14]\n",
      " [ 0.00000000e+00 -1.77635684e-14 -1.42108547e-14  0.00000000e+00\n",
      "  -2.84217094e-14 -1.42108547e-14  0.00000000e+00 -2.84217094e-14\n",
      "  -1.42108547e-14 -2.13162821e-14]\n",
      " [ 0.00000000e+00  2.02060590e-14  0.00000000e+00 -2.84217094e-14\n",
      "   0.00000000e+00  1.42108547e-14  7.10542736e-15 -1.42108547e-14\n",
      "  -1.24344979e-14 -7.10542736e-15]\n",
      " [-7.10542736e-15 -7.10542736e-15 -1.06581410e-14 -1.42108547e-14\n",
      "   1.42108547e-14  0.00000000e+00  7.99360578e-15  0.00000000e+00\n",
      "  -3.55271368e-15 -3.55271368e-15]\n",
      " [ 7.10542736e-15  7.10542736e-15  0.00000000e+00  0.00000000e+00\n",
      "   7.10542736e-15  7.99360578e-15  0.00000000e+00 -4.44089210e-15\n",
      "  -3.55271368e-15  5.32907052e-15]\n",
      " [ 0.00000000e+00 -7.10542736e-15  7.10542736e-15 -2.84217094e-14\n",
      "  -1.42108547e-14  3.55271368e-15 -7.99360578e-15  0.00000000e+00\n",
      "  -1.77635684e-14  0.00000000e+00]\n",
      " [ 0.00000000e+00 -1.06581410e-14 -1.42108547e-14 -1.42108547e-14\n",
      "  -1.24344979e-14 -3.55271368e-15 -3.55271368e-15 -1.42108547e-14\n",
      "   0.00000000e+00 -1.12687637e-14]\n",
      " [-1.42108547e-14  3.55271368e-15 -1.42108547e-14 -2.13162821e-14\n",
      "  -7.10542736e-15 -3.55271368e-15  5.32907052e-15  3.55271368e-15\n",
      "  -1.12687637e-14  0.00000000e+00]]\n"
     ]
    }
   ],
   "source": [
    "DM2 = d_matrix2(platoon) #squared distance matrix -> for formulas\n",
    "print(DM2)\n",
    "\n",
    "#double check the distances\n",
    "print('\\n',DM2 - DM_from_S(S))"
   ]
  },
  {
   "cell_type": "markdown",
   "metadata": {},
   "source": [
    "##### S* estimation through EigenValue Decomposition"
   ]
  },
  {
   "cell_type": "code",
   "execution_count": 3,
   "metadata": {},
   "outputs": [
    {
     "name": "stdout",
     "output_type": "stream",
     "text": [
      "[[ 8.42014666 -3.16894901  2.24961222 -1.70115928 -3.40133606  0.63905001\n",
      "   0.57899169  2.38956132 -2.29336616 -2.70686685]\n",
      " [ 0.08641858  1.79342334  4.33892733  4.58289632  0.6225073  -0.68985052\n",
      "  -2.89221807 -2.34065157 -2.68684512 -2.45853584]]\n"
     ]
    },
    {
     "name": "stderr",
     "output_type": "stream",
     "text": [
      "/mnt/c/Users/pierf/Desktop/drone-pose-estimation/UAV/Algebra.py:162: ComplexWarning: Casting complex values to real discards the imaginary part\n",
      "  LAMBDA[i,i] = ev[ind]\n",
      "/mnt/c/Users/pierf/Desktop/drone-pose-estimation/UAV/Algebra.py:163: ComplexWarning: Casting complex values to real discards the imaginary part\n",
      "  U[:,i] = EV[:,ind]\n"
     ]
    }
   ],
   "source": [
    "S_star = EVD(DM2,n_components)\n",
    "print(S_star)"
   ]
  },
  {
   "cell_type": "markdown",
   "metadata": {},
   "source": [
    "##### Removal of the ambiguity generated by distances in an Universal Euclidean transformation"
   ]
  },
  {
   "cell_type": "code",
   "execution_count": 4,
   "metadata": {},
   "outputs": [
    {
     "name": "stdout",
     "output_type": "stream",
     "text": [
      "X displacement:  -8.420146658608473\n",
      "Y displacement:  -0.08641857845555237\n",
      "Displacement matrix:\n",
      " [[-8.42014666 -8.42014666 -8.42014666 -8.42014666 -8.42014666 -8.42014666\n",
      "  -8.42014666 -8.42014666 -8.42014666 -8.42014666]\n",
      " [-0.08641858 -0.08641858 -0.08641858 -0.08641858 -0.08641858 -0.08641858\n",
      "  -0.08641858 -0.08641858 -0.08641858 -0.08641858]]\n",
      "[[  0.         -11.58909567  -6.17053444 -10.12130594 -11.82148272\n",
      "   -7.78109665  -7.84115497  -6.03058534 -10.71351282 -11.12701351]\n",
      " [  0.           1.70700476   4.25250875   4.49647774   0.53608872\n",
      "   -0.7762691   -2.97863665  -2.42707015  -2.7732637   -2.54495442]]\n"
     ]
    }
   ],
   "source": [
    "#Translation removal\n",
    "S_star = match_anchor(S,S_star,verbose=1)\n",
    "print(S_star)"
   ]
  },
  {
   "cell_type": "markdown",
   "metadata": {},
   "source": [
    "The new coordinates may be affected by rotation and flip ambiguities. Thus we must solve the problem with further analysis"
   ]
  },
  {
   "cell_type": "markdown",
   "metadata": {},
   "source": [
    "##### Identification of rotation ambiguity"
   ]
  },
  {
   "cell_type": "markdown",
   "metadata": {},
   "source": [
    "DM' : a new acquisition for the distances\n",
    "\n",
    "We now introduce a displacement for the anchor, in order to build a new (squared) distance matrix.\n",
    "\n",
    "In reality what we do is applying a displacement to the anchor and we get a new distance matrix"
   ]
  },
  {
   "cell_type": "code",
   "execution_count": 5,
   "metadata": {},
   "outputs": [
    {
     "name": "stdout",
     "output_type": "stream",
     "text": [
      "[[0.3        7.87070585 6.91731431 9.36303466 7.03505088 3.6273803\n",
      "  1.86747415 1.30305183 3.68465746 4.11280164]\n",
      " [0.1        7.40551457 1.4985008  4.88617175 8.26191887 4.93263542\n",
      "  6.62756192 4.83951643 9.33196067 9.64824798]]\n",
      "DM' :\n",
      " [[  0.         110.68613016  45.74465318 105.04603725 111.97783011\n",
      "   34.42582482  45.06603976  23.469129    96.685004   105.70649578]\n",
      " [110.68613016   0.          35.80176702   8.5741335    1.43174756\n",
      "   24.12094296  36.64400121  49.71842579  21.23419573  19.15169716]\n",
      " [ 45.74465318  35.80176702   0.          17.45786247  45.75768587\n",
      "   22.61694635  51.80815356  42.68232867  71.81316384  74.28367024]\n",
      " [105.04603725   8.5741335   17.45786247   0.          16.81517709\n",
      "   32.89988976  59.21586711  64.96549998  52.00900677  50.24231668]\n",
      " [111.97783011   1.43174756  45.75768587  16.81517709   0.\n",
      "   22.69634708  29.37497201  44.56865165  12.37012556  10.461449  ]\n",
      " [ 34.42582482  24.12094296  22.61694635  32.89988976  22.69634708\n",
      "    0.           5.9700455    5.41117401  19.35734333  22.47263562]\n",
      " [ 45.06603976  36.64400121  51.80815356  59.21586711  29.37497201\n",
      "    5.9700455    0.           3.5156792   10.61592784  14.16603985]\n",
      " [ 23.469129    49.71842579  42.68232867  64.96549998  44.56865165\n",
      "    5.41117401   3.5156792    0.          25.85410064  31.01859307]\n",
      " [ 96.685004    21.23419573  71.81316384  52.00900677  12.37012556\n",
      "   19.35734333  10.61592784  25.85410064   0.           0.2833451 ]\n",
      " [105.70649578  19.15169716  74.28367024  50.24231668  10.461449\n",
      "   22.47263562  14.16603985  31.01859307   0.2833451    0.        ]]\n"
     ]
    }
   ],
   "source": [
    "deltaX1 = 0.3\n",
    "deltaY1 = 0.1\n",
    "\n",
    "DeltaS_prime = np.array([[0 for i in range(n_robots)] for j in range(2)],dtype=float)\n",
    "DeltaS_prime[:,0] = [deltaX1,deltaY1]\n",
    "\n",
    "S_prime = S + DeltaS_prime\n",
    "print(S_prime)\n",
    "\n",
    "DM_prime = DM_from_S(S_prime,verbose=1)"
   ]
  },
  {
   "cell_type": "markdown",
   "metadata": {},
   "source": [
    "Estimation of the rotation angle $\\theta_r$"
   ]
  },
  {
   "cell_type": "code",
   "execution_count": 6,
   "metadata": {},
   "outputs": [
    {
     "name": "stdout",
     "output_type": "stream",
     "text": [
      "------------------------------------\n",
      "1.4603799476040746\n",
      "2.6171987955185205\n",
      "2.1446398613406417\n",
      "2.8472863828747697\n"
     ]
    }
   ],
   "source": [
    "\"\"\"theta1a, theta1b = estimate_theta2(DM2,DM_prime,S_star,[deltaX1,deltaY1],index=1,verbose=1)\n",
    "print(theta1a)\n",
    "print(theta1b)\n",
    "\n",
    "theta2a, theta2b = estimate_theta2(DM2,DM_prime,S_star,[deltaX1,deltaY1],index=2,verbose=1)\n",
    "print(theta2a)\n",
    "print(theta2b)\"\"\"\n",
    "\n",
    "print(\"------------------------------------\")\n",
    "theta3a, theta3b = estimate_theta3(DM2,DM_prime,S_star,[deltaX1,deltaY1],index=1,verbose=1)\n",
    "print(theta3a)\n",
    "print(theta3b)\n",
    "\n",
    "theta4a, theta4b = estimate_theta3(DM2,DM_prime,S_star,[deltaX1,deltaY1],index=2,verbose=1)\n",
    "print(theta4a)\n",
    "print(theta4b)"
   ]
  },
  {
   "cell_type": "code",
   "execution_count": 7,
   "metadata": {},
   "outputs": [
    {
     "name": "stdout",
     "output_type": "stream",
     "text": [
      "Coordinates to work with: 1-th and 2-th\n",
      "After normalization: \n",
      "cos(theta):\t-0.591709\n",
      "sin(theta):\t0.806152\n",
      "\n",
      "Actual theta:\t 2.2039729524011937\n",
      "Approx theta:\tDisabled\n",
      "Coordinates to work with: 1-th and 2-th\n",
      "After normalization: \n",
      "cos(theta):\t-0.591709\n",
      "sin(theta):\t0.806152\n",
      "\n",
      "Actual theta:\t 2.2039729524011937\n",
      "Approx theta:\t 2.204\n"
     ]
    }
   ],
   "source": [
    "theta_r   = estimate_theta(DM2,DM_prime,S_star,[deltaX1,deltaY1],verbose=1)\n",
    "theta_r_a = estimate_theta(DM2,DM_prime,S_star,[deltaX1,deltaY1],approx = 1,verbose=1)"
   ]
  },
  {
   "cell_type": "markdown",
   "metadata": {},
   "source": [
    "S** : estimated-rotated coordinates"
   ]
  },
  {
   "cell_type": "code",
   "execution_count": 8,
   "metadata": {},
   "outputs": [],
   "source": [
    "S_star2 = rotateMatrix(theta_r)@S_star\n",
    "S_star2a = rotateMatrix(theta_r_a)@S_star"
   ]
  },
  {
   "cell_type": "markdown",
   "metadata": {},
   "source": [
    "##### Identification of flip ambiguity"
   ]
  },
  {
   "cell_type": "markdown",
   "metadata": {},
   "source": [
    "We have to check if there is any flip ambiguity. To do so, we have to move the anchor one more time"
   ]
  },
  {
   "cell_type": "code",
   "execution_count": 9,
   "metadata": {},
   "outputs": [
    {
     "name": "stdout",
     "output_type": "stream",
     "text": [
      "[[0.3        7.87070585 6.91731431 9.36303466 7.03505088 3.6273803\n",
      "  1.86747415 1.30305183 3.68465746 4.11280164]\n",
      " [0.1        7.40551457 1.4985008  4.88617175 8.26191887 4.93263542\n",
      "  6.62756192 4.83951643 9.33196067 9.64824798]]\n",
      "DM' :\n",
      " [[  0.         100.49625674  39.86170125  95.17390648 101.94263808\n",
      "   29.11433932  40.14552329  20.07297768  88.68810163  97.17730568]\n",
      " [100.49625674   0.          35.80176702   8.5741335    1.43174756\n",
      "   24.12094296  36.64400121  49.71842579  21.23419573  19.15169716]\n",
      " [ 39.86170125  35.80176702   0.          17.45786247  45.75768587\n",
      "   22.61694635  51.80815356  42.68232867  71.81316384  74.28367024]\n",
      " [ 95.17390648   8.5741335   17.45786247   0.          16.81517709\n",
      "   32.89988976  59.21586711  64.96549998  52.00900677  50.24231668]\n",
      " [101.94263808   1.43174756  45.75768587  16.81517709   0.\n",
      "   22.69634708  29.37497201  44.56865165  12.37012556  10.461449  ]\n",
      " [ 29.11433932  24.12094296  22.61694635  32.89988976  22.69634708\n",
      "    0.           5.9700455    5.41117401  19.35734333  22.47263562]\n",
      " [ 40.14552329  36.64400121  51.80815356  59.21586711  29.37497201\n",
      "    5.9700455    0.           3.5156792   10.61592784  14.16603985]\n",
      " [ 20.07297768  49.71842579  42.68232867  64.96549998  44.56865165\n",
      "    5.41117401   3.5156792    0.          25.85410064  31.01859307]\n",
      " [ 88.68810163  21.23419573  71.81316384  52.00900677  12.37012556\n",
      "   19.35734333  10.61592784  25.85410064   0.           0.2833451 ]\n",
      " [ 97.17730568  19.15169716  74.28367024  50.24231668  10.461449\n",
      "   22.47263562  14.16603985  31.01859307   0.2833451    0.        ]]\n"
     ]
    }
   ],
   "source": [
    "deltaX2 = 0.7\n",
    "deltaY2 = 0.4\n",
    "\n",
    "DeltaS_prime2 = np.array([[0 for i in range(n_robots)] for j in range(2)],dtype=float)\n",
    "DeltaS_prime2[:,0] = [deltaX2,deltaY2]\n",
    "\n",
    "S_prime2 = S + DeltaS_prime2\n",
    "print(S_prime)\n",
    "\n",
    "DM_prime2 = DM_from_S(S_prime2,verbose=1)"
   ]
  },
  {
   "cell_type": "markdown",
   "metadata": {},
   "source": [
    "Now we estimate a second rotation angle $\\theta_{r2}$: if = 0, no flip ambiguity"
   ]
  },
  {
   "cell_type": "code",
   "execution_count": 10,
   "metadata": {},
   "outputs": [
    {
     "name": "stdout",
     "output_type": "stream",
     "text": [
      "theta_r2 :  0.0\n"
     ]
    },
    {
     "data": {
      "image/png": "[encoded data removed]",
      "text/plain": [
       "<Figure size 1080x288 with 3 Axes>"
      ]
     },
     "metadata": {
      "needs_background": "light"
     },
     "output_type": "display_data"
    }
   ],
   "source": [
    "theta_r2 = estimate_theta(DM2,DM_prime2,S_star2,[deltaX2,deltaY2],approx=2,verbose=0)\n",
    "print(\"theta_r2 : \", theta_r2)\n",
    "\n",
    "\n",
    "if (theta_r2 != 0):\n",
    "  F = np.array([[-1,0],[0,1]])\n",
    "    \n",
    "  theta_r3 = estimate_theta(DM2,DM_prime,F@S_star,[deltaX1,deltaY1],verbose=0)\n",
    "  theta_r3_a = estimate_theta(DM2,DM_prime,F@S_star,[deltaX1,deltaY1],approx=1,verbose=0)\n",
    "\n",
    "  print(\"Wrong estimated angle:\",theta_r)\n",
    "  print(\"True  estimated angle:\", theta_r3)\n",
    "\n",
    "  S_star2 = rotateMatrix(theta_r3)@F@S_star\n",
    "  S_star2a = rotateMatrix(theta_r3_a)@F@S_star\n",
    "\n",
    "\n",
    "plot_points(S,S_star  = S_star,\n",
    "              S_star2 = S_star2,\n",
    "              S_star2a = S_star2a\n",
    "            )"
   ]
  }
 ],
 "metadata": {
  "kernelspec": {
   "display_name": "Python 3.8.10 64-bit",
   "language": "python",
   "name": "python3"
  },
  "language_info": {
   "codemirror_mode": {
    "name": "ipython",
    "version": 3
   },
   "file_extension": ".py",
   "mimetype": "text/x-python",
   "name": "python",
   "nbconvert_exporter": "python",
   "pygments_lexer": "ipython3",
   "version": "3.8.10"
  },
  "orig_nbformat": 4,
  "vscode": {
   "interpreter": {
    "hash": "916dbcbb3f70747c44a77c7bcd40155683ae19c65e1c03b4aa3499c5328201f1"
   }
  }
 },
 "nbformat": 4,
 "nbformat_minor": 2
}
